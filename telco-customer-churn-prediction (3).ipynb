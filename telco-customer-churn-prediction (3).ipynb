{
  "cells": [
    {
      "cell_type": "markdown",
      "metadata": {
        "id": "9RHtJ8vkZdOQ"
      },
      "source": [
        "# **Telco Customer Churn Prediction using Random Forest Model**\n",
        "---\n",
        "Dataset link : https://www.kaggle.com/datasets/yeanzc/telco-customer-churn-ibm-dataset"
      ]
    },
    {
      "cell_type": "code",
      "execution_count": null,
      "metadata": {
        "id": "iT-3giG6ZdOg"
      },
      "outputs": [],
      "source": [
        "import pandas as pd\n",
        "import numpy as np\n",
        "import seaborn as sns\n",
        "import matplotlib.pyplot as plt\n",
        "from sklearn.model_selection import train_test_split\n",
        "from sklearn.ensemble import RandomForestClassifier\n",
        "from sklearn.metrics import accuracy_score\n",
        "from sklearn.metrics import mean_absolute_error\n",
        "from sklearn.model_selection import GridSearchCV\n",
        "import random\n",
        "from sklearn import preprocessing\n",
        "from sklearn.metrics import precision_score, recall_score, f1_score"
      ]
    },
    {
      "cell_type": "markdown",
      "metadata": {
        "id": "1X6LRyBHZdOi"
      },
      "source": [
        "# **Read the** **Data**"
      ]
    },
    {
      "cell_type": "code",
      "execution_count": null,
      "metadata": {
        "id": "qXhiKGhCZdOj"
      },
      "outputs": [],
      "source": [
        "churn=pd.read_excel('/content/Telco_customer_churn.xlsx')    #path of data.csv"
      ]
    },
    {
      "cell_type": "markdown",
      "metadata": {
        "id": "ADv10ue_ZdOj"
      },
      "source": [
        "# **Explore , understand and get values of the dataset to plan data cleaning**\n"
      ]
    },
    {
      "cell_type": "code",
      "execution_count": null,
      "metadata": {
        "colab": {
          "base_uri": "https://localhost:8080/",
          "height": 740
        },
        "id": "DEyl7DkqZdOk",
        "outputId": "fbefc306-0ef0-43f6-b467-2e6c98d5ce5a"
      },
      "outputs": [
        {
          "output_type": "execute_result",
          "data": {
            "text/plain": [
              "   CustomerID  Count        Country       State         City  Zip Code  \\\n",
              "0  3668-QPYBK      1  United States  California  Los Angeles     90003   \n",
              "1  9237-HQITU      1  United States  California  Los Angeles     90005   \n",
              "2  9305-CDSKC      1  United States  California  Los Angeles     90006   \n",
              "3  7892-POOKP      1  United States  California  Los Angeles     90010   \n",
              "4  0280-XJGEX      1  United States  California  Los Angeles     90015   \n",
              "5  4190-MFLUW      1  United States  California  Los Angeles     90020   \n",
              "6  8779-QRDMV      1  United States  California  Los Angeles     90022   \n",
              "7  1066-JKSGK      1  United States  California  Los Angeles     90024   \n",
              "8  6467-CHFZW      1  United States  California  Los Angeles     90028   \n",
              "9  8665-UTDHZ      1  United States  California  Los Angeles     90029   \n",
              "\n",
              "                 Lat Long   Latitude   Longitude  Gender  ...        Contract  \\\n",
              "0  33.964131, -118.272783  33.964131 -118.272783    Male  ...  Month-to-month   \n",
              "1   34.059281, -118.30742  34.059281 -118.307420  Female  ...  Month-to-month   \n",
              "2  34.048013, -118.293953  34.048013 -118.293953  Female  ...  Month-to-month   \n",
              "3  34.062125, -118.315709  34.062125 -118.315709  Female  ...  Month-to-month   \n",
              "4  34.039224, -118.266293  34.039224 -118.266293    Male  ...  Month-to-month   \n",
              "5  34.066367, -118.309868  34.066367 -118.309868  Female  ...  Month-to-month   \n",
              "6   34.02381, -118.156582  34.023810 -118.156582    Male  ...  Month-to-month   \n",
              "7  34.066303, -118.435479  34.066303 -118.435479    Male  ...  Month-to-month   \n",
              "8  34.099869, -118.326843  34.099869 -118.326843    Male  ...  Month-to-month   \n",
              "9  34.089953, -118.294824  34.089953 -118.294824    Male  ...  Month-to-month   \n",
              "\n",
              "  Paperless Billing             Payment Method  Monthly Charges Total Charges  \\\n",
              "0               Yes               Mailed check            53.85        108.15   \n",
              "1               Yes           Electronic check            70.70        151.65   \n",
              "2               Yes           Electronic check            99.65         820.5   \n",
              "3               Yes           Electronic check           104.80       3046.05   \n",
              "4               Yes  Bank transfer (automatic)           103.70        5036.3   \n",
              "5                No    Credit card (automatic)            55.20        528.35   \n",
              "6               Yes           Electronic check            39.65         39.65   \n",
              "7                No               Mailed check            20.15         20.15   \n",
              "8               Yes           Electronic check            99.35       4749.15   \n",
              "9                No           Electronic check            30.20          30.2   \n",
              "\n",
              "  Churn Label Churn Value Churn Score  CLTV  \\\n",
              "0         Yes           1          86  3239   \n",
              "1         Yes           1          67  2701   \n",
              "2         Yes           1          86  5372   \n",
              "3         Yes           1          84  5003   \n",
              "4         Yes           1          89  5340   \n",
              "5         Yes           1          78  5925   \n",
              "6         Yes           1         100  5433   \n",
              "7         Yes           1          92  4832   \n",
              "8         Yes           1          77  5789   \n",
              "9         Yes           1          97  2915   \n",
              "\n",
              "                                Churn Reason  \n",
              "0               Competitor made better offer  \n",
              "1                                      Moved  \n",
              "2                                      Moved  \n",
              "3                                      Moved  \n",
              "4              Competitor had better devices  \n",
              "5  Competitor offered higher download speeds  \n",
              "6               Competitor offered more data  \n",
              "7               Competitor made better offer  \n",
              "8              Competitor had better devices  \n",
              "9              Competitor had better devices  \n",
              "\n",
              "[10 rows x 33 columns]"
            ],
            "text/html": [
              "\n",
              "  <div id=\"df-92d23cf6-2a18-4028-925b-1f9950609509\" class=\"colab-df-container\">\n",
              "    <div>\n",
              "<style scoped>\n",
              "    .dataframe tbody tr th:only-of-type {\n",
              "        vertical-align: middle;\n",
              "    }\n",
              "\n",
              "    .dataframe tbody tr th {\n",
              "        vertical-align: top;\n",
              "    }\n",
              "\n",
              "    .dataframe thead th {\n",
              "        text-align: right;\n",
              "    }\n",
              "</style>\n",
              "<table border=\"1\" class=\"dataframe\">\n",
              "  <thead>\n",
              "    <tr style=\"text-align: right;\">\n",
              "      <th></th>\n",
              "      <th>CustomerID</th>\n",
              "      <th>Count</th>\n",
              "      <th>Country</th>\n",
              "      <th>State</th>\n",
              "      <th>City</th>\n",
              "      <th>Zip Code</th>\n",
              "      <th>Lat Long</th>\n",
              "      <th>Latitude</th>\n",
              "      <th>Longitude</th>\n",
              "      <th>Gender</th>\n",
              "      <th>...</th>\n",
              "      <th>Contract</th>\n",
              "      <th>Paperless Billing</th>\n",
              "      <th>Payment Method</th>\n",
              "      <th>Monthly Charges</th>\n",
              "      <th>Total Charges</th>\n",
              "      <th>Churn Label</th>\n",
              "      <th>Churn Value</th>\n",
              "      <th>Churn Score</th>\n",
              "      <th>CLTV</th>\n",
              "      <th>Churn Reason</th>\n",
              "    </tr>\n",
              "  </thead>\n",
              "  <tbody>\n",
              "    <tr>\n",
              "      <th>0</th>\n",
              "      <td>3668-QPYBK</td>\n",
              "      <td>1</td>\n",
              "      <td>United States</td>\n",
              "      <td>California</td>\n",
              "      <td>Los Angeles</td>\n",
              "      <td>90003</td>\n",
              "      <td>33.964131, -118.272783</td>\n",
              "      <td>33.964131</td>\n",
              "      <td>-118.272783</td>\n",
              "      <td>Male</td>\n",
              "      <td>...</td>\n",
              "      <td>Month-to-month</td>\n",
              "      <td>Yes</td>\n",
              "      <td>Mailed check</td>\n",
              "      <td>53.85</td>\n",
              "      <td>108.15</td>\n",
              "      <td>Yes</td>\n",
              "      <td>1</td>\n",
              "      <td>86</td>\n",
              "      <td>3239</td>\n",
              "      <td>Competitor made better offer</td>\n",
              "    </tr>\n",
              "    <tr>\n",
              "      <th>1</th>\n",
              "      <td>9237-HQITU</td>\n",
              "      <td>1</td>\n",
              "      <td>United States</td>\n",
              "      <td>California</td>\n",
              "      <td>Los Angeles</td>\n",
              "      <td>90005</td>\n",
              "      <td>34.059281, -118.30742</td>\n",
              "      <td>34.059281</td>\n",
              "      <td>-118.307420</td>\n",
              "      <td>Female</td>\n",
              "      <td>...</td>\n",
              "      <td>Month-to-month</td>\n",
              "      <td>Yes</td>\n",
              "      <td>Electronic check</td>\n",
              "      <td>70.70</td>\n",
              "      <td>151.65</td>\n",
              "      <td>Yes</td>\n",
              "      <td>1</td>\n",
              "      <td>67</td>\n",
              "      <td>2701</td>\n",
              "      <td>Moved</td>\n",
              "    </tr>\n",
              "    <tr>\n",
              "      <th>2</th>\n",
              "      <td>9305-CDSKC</td>\n",
              "      <td>1</td>\n",
              "      <td>United States</td>\n",
              "      <td>California</td>\n",
              "      <td>Los Angeles</td>\n",
              "      <td>90006</td>\n",
              "      <td>34.048013, -118.293953</td>\n",
              "      <td>34.048013</td>\n",
              "      <td>-118.293953</td>\n",
              "      <td>Female</td>\n",
              "      <td>...</td>\n",
              "      <td>Month-to-month</td>\n",
              "      <td>Yes</td>\n",
              "      <td>Electronic check</td>\n",
              "      <td>99.65</td>\n",
              "      <td>820.5</td>\n",
              "      <td>Yes</td>\n",
              "      <td>1</td>\n",
              "      <td>86</td>\n",
              "      <td>5372</td>\n",
              "      <td>Moved</td>\n",
              "    </tr>\n",
              "    <tr>\n",
              "      <th>3</th>\n",
              "      <td>7892-POOKP</td>\n",
              "      <td>1</td>\n",
              "      <td>United States</td>\n",
              "      <td>California</td>\n",
              "      <td>Los Angeles</td>\n",
              "      <td>90010</td>\n",
              "      <td>34.062125, -118.315709</td>\n",
              "      <td>34.062125</td>\n",
              "      <td>-118.315709</td>\n",
              "      <td>Female</td>\n",
              "      <td>...</td>\n",
              "      <td>Month-to-month</td>\n",
              "      <td>Yes</td>\n",
              "      <td>Electronic check</td>\n",
              "      <td>104.80</td>\n",
              "      <td>3046.05</td>\n",
              "      <td>Yes</td>\n",
              "      <td>1</td>\n",
              "      <td>84</td>\n",
              "      <td>5003</td>\n",
              "      <td>Moved</td>\n",
              "    </tr>\n",
              "    <tr>\n",
              "      <th>4</th>\n",
              "      <td>0280-XJGEX</td>\n",
              "      <td>1</td>\n",
              "      <td>United States</td>\n",
              "      <td>California</td>\n",
              "      <td>Los Angeles</td>\n",
              "      <td>90015</td>\n",
              "      <td>34.039224, -118.266293</td>\n",
              "      <td>34.039224</td>\n",
              "      <td>-118.266293</td>\n",
              "      <td>Male</td>\n",
              "      <td>...</td>\n",
              "      <td>Month-to-month</td>\n",
              "      <td>Yes</td>\n",
              "      <td>Bank transfer (automatic)</td>\n",
              "      <td>103.70</td>\n",
              "      <td>5036.3</td>\n",
              "      <td>Yes</td>\n",
              "      <td>1</td>\n",
              "      <td>89</td>\n",
              "      <td>5340</td>\n",
              "      <td>Competitor had better devices</td>\n",
              "    </tr>\n",
              "    <tr>\n",
              "      <th>5</th>\n",
              "      <td>4190-MFLUW</td>\n",
              "      <td>1</td>\n",
              "      <td>United States</td>\n",
              "      <td>California</td>\n",
              "      <td>Los Angeles</td>\n",
              "      <td>90020</td>\n",
              "      <td>34.066367, -118.309868</td>\n",
              "      <td>34.066367</td>\n",
              "      <td>-118.309868</td>\n",
              "      <td>Female</td>\n",
              "      <td>...</td>\n",
              "      <td>Month-to-month</td>\n",
              "      <td>No</td>\n",
              "      <td>Credit card (automatic)</td>\n",
              "      <td>55.20</td>\n",
              "      <td>528.35</td>\n",
              "      <td>Yes</td>\n",
              "      <td>1</td>\n",
              "      <td>78</td>\n",
              "      <td>5925</td>\n",
              "      <td>Competitor offered higher download speeds</td>\n",
              "    </tr>\n",
              "    <tr>\n",
              "      <th>6</th>\n",
              "      <td>8779-QRDMV</td>\n",
              "      <td>1</td>\n",
              "      <td>United States</td>\n",
              "      <td>California</td>\n",
              "      <td>Los Angeles</td>\n",
              "      <td>90022</td>\n",
              "      <td>34.02381, -118.156582</td>\n",
              "      <td>34.023810</td>\n",
              "      <td>-118.156582</td>\n",
              "      <td>Male</td>\n",
              "      <td>...</td>\n",
              "      <td>Month-to-month</td>\n",
              "      <td>Yes</td>\n",
              "      <td>Electronic check</td>\n",
              "      <td>39.65</td>\n",
              "      <td>39.65</td>\n",
              "      <td>Yes</td>\n",
              "      <td>1</td>\n",
              "      <td>100</td>\n",
              "      <td>5433</td>\n",
              "      <td>Competitor offered more data</td>\n",
              "    </tr>\n",
              "    <tr>\n",
              "      <th>7</th>\n",
              "      <td>1066-JKSGK</td>\n",
              "      <td>1</td>\n",
              "      <td>United States</td>\n",
              "      <td>California</td>\n",
              "      <td>Los Angeles</td>\n",
              "      <td>90024</td>\n",
              "      <td>34.066303, -118.435479</td>\n",
              "      <td>34.066303</td>\n",
              "      <td>-118.435479</td>\n",
              "      <td>Male</td>\n",
              "      <td>...</td>\n",
              "      <td>Month-to-month</td>\n",
              "      <td>No</td>\n",
              "      <td>Mailed check</td>\n",
              "      <td>20.15</td>\n",
              "      <td>20.15</td>\n",
              "      <td>Yes</td>\n",
              "      <td>1</td>\n",
              "      <td>92</td>\n",
              "      <td>4832</td>\n",
              "      <td>Competitor made better offer</td>\n",
              "    </tr>\n",
              "    <tr>\n",
              "      <th>8</th>\n",
              "      <td>6467-CHFZW</td>\n",
              "      <td>1</td>\n",
              "      <td>United States</td>\n",
              "      <td>California</td>\n",
              "      <td>Los Angeles</td>\n",
              "      <td>90028</td>\n",
              "      <td>34.099869, -118.326843</td>\n",
              "      <td>34.099869</td>\n",
              "      <td>-118.326843</td>\n",
              "      <td>Male</td>\n",
              "      <td>...</td>\n",
              "      <td>Month-to-month</td>\n",
              "      <td>Yes</td>\n",
              "      <td>Electronic check</td>\n",
              "      <td>99.35</td>\n",
              "      <td>4749.15</td>\n",
              "      <td>Yes</td>\n",
              "      <td>1</td>\n",
              "      <td>77</td>\n",
              "      <td>5789</td>\n",
              "      <td>Competitor had better devices</td>\n",
              "    </tr>\n",
              "    <tr>\n",
              "      <th>9</th>\n",
              "      <td>8665-UTDHZ</td>\n",
              "      <td>1</td>\n",
              "      <td>United States</td>\n",
              "      <td>California</td>\n",
              "      <td>Los Angeles</td>\n",
              "      <td>90029</td>\n",
              "      <td>34.089953, -118.294824</td>\n",
              "      <td>34.089953</td>\n",
              "      <td>-118.294824</td>\n",
              "      <td>Male</td>\n",
              "      <td>...</td>\n",
              "      <td>Month-to-month</td>\n",
              "      <td>No</td>\n",
              "      <td>Electronic check</td>\n",
              "      <td>30.20</td>\n",
              "      <td>30.2</td>\n",
              "      <td>Yes</td>\n",
              "      <td>1</td>\n",
              "      <td>97</td>\n",
              "      <td>2915</td>\n",
              "      <td>Competitor had better devices</td>\n",
              "    </tr>\n",
              "  </tbody>\n",
              "</table>\n",
              "<p>10 rows × 33 columns</p>\n",
              "</div>\n",
              "    <div class=\"colab-df-buttons\">\n",
              "\n",
              "  <div class=\"colab-df-container\">\n",
              "    <button class=\"colab-df-convert\" onclick=\"convertToInteractive('df-92d23cf6-2a18-4028-925b-1f9950609509')\"\n",
              "            title=\"Convert this dataframe to an interactive table.\"\n",
              "            style=\"display:none;\">\n",
              "\n",
              "  <svg xmlns=\"http://www.w3.org/2000/svg\" height=\"24px\" viewBox=\"0 -960 960 960\">\n",
              "    <path d=\"M120-120v-720h720v720H120Zm60-500h600v-160H180v160Zm220 220h160v-160H400v160Zm0 220h160v-160H400v160ZM180-400h160v-160H180v160Zm440 0h160v-160H620v160ZM180-180h160v-160H180v160Zm440 0h160v-160H620v160Z\"/>\n",
              "  </svg>\n",
              "    </button>\n",
              "\n",
              "  <style>\n",
              "    .colab-df-container {\n",
              "      display:flex;\n",
              "      gap: 12px;\n",
              "    }\n",
              "\n",
              "    .colab-df-convert {\n",
              "      background-color: #E8F0FE;\n",
              "      border: none;\n",
              "      border-radius: 50%;\n",
              "      cursor: pointer;\n",
              "      display: none;\n",
              "      fill: #1967D2;\n",
              "      height: 32px;\n",
              "      padding: 0 0 0 0;\n",
              "      width: 32px;\n",
              "    }\n",
              "\n",
              "    .colab-df-convert:hover {\n",
              "      background-color: #E2EBFA;\n",
              "      box-shadow: 0px 1px 2px rgba(60, 64, 67, 0.3), 0px 1px 3px 1px rgba(60, 64, 67, 0.15);\n",
              "      fill: #174EA6;\n",
              "    }\n",
              "\n",
              "    .colab-df-buttons div {\n",
              "      margin-bottom: 4px;\n",
              "    }\n",
              "\n",
              "    [theme=dark] .colab-df-convert {\n",
              "      background-color: #3B4455;\n",
              "      fill: #D2E3FC;\n",
              "    }\n",
              "\n",
              "    [theme=dark] .colab-df-convert:hover {\n",
              "      background-color: #434B5C;\n",
              "      box-shadow: 0px 1px 3px 1px rgba(0, 0, 0, 0.15);\n",
              "      filter: drop-shadow(0px 1px 2px rgba(0, 0, 0, 0.3));\n",
              "      fill: #FFFFFF;\n",
              "    }\n",
              "  </style>\n",
              "\n",
              "    <script>\n",
              "      const buttonEl =\n",
              "        document.querySelector('#df-92d23cf6-2a18-4028-925b-1f9950609509 button.colab-df-convert');\n",
              "      buttonEl.style.display =\n",
              "        google.colab.kernel.accessAllowed ? 'block' : 'none';\n",
              "\n",
              "      async function convertToInteractive(key) {\n",
              "        const element = document.querySelector('#df-92d23cf6-2a18-4028-925b-1f9950609509');\n",
              "        const dataTable =\n",
              "          await google.colab.kernel.invokeFunction('convertToInteractive',\n",
              "                                                    [key], {});\n",
              "        if (!dataTable) return;\n",
              "\n",
              "        const docLinkHtml = 'Like what you see? Visit the ' +\n",
              "          '<a target=\"_blank\" href=https://colab.research.google.com/notebooks/data_table.ipynb>data table notebook</a>'\n",
              "          + ' to learn more about interactive tables.';\n",
              "        element.innerHTML = '';\n",
              "        dataTable['output_type'] = 'display_data';\n",
              "        await google.colab.output.renderOutput(dataTable, element);\n",
              "        const docLink = document.createElement('div');\n",
              "        docLink.innerHTML = docLinkHtml;\n",
              "        element.appendChild(docLink);\n",
              "      }\n",
              "    </script>\n",
              "  </div>\n",
              "\n",
              "\n",
              "<div id=\"df-0176e4ed-fe1b-4c59-b02f-d6ac5585920c\">\n",
              "  <button class=\"colab-df-quickchart\" onclick=\"quickchart('df-0176e4ed-fe1b-4c59-b02f-d6ac5585920c')\"\n",
              "            title=\"Suggest charts\"\n",
              "            style=\"display:none;\">\n",
              "\n",
              "<svg xmlns=\"http://www.w3.org/2000/svg\" height=\"24px\"viewBox=\"0 0 24 24\"\n",
              "     width=\"24px\">\n",
              "    <g>\n",
              "        <path d=\"M19 3H5c-1.1 0-2 .9-2 2v14c0 1.1.9 2 2 2h14c1.1 0 2-.9 2-2V5c0-1.1-.9-2-2-2zM9 17H7v-7h2v7zm4 0h-2V7h2v10zm4 0h-2v-4h2v4z\"/>\n",
              "    </g>\n",
              "</svg>\n",
              "  </button>\n",
              "\n",
              "<style>\n",
              "  .colab-df-quickchart {\n",
              "      --bg-color: #E8F0FE;\n",
              "      --fill-color: #1967D2;\n",
              "      --hover-bg-color: #E2EBFA;\n",
              "      --hover-fill-color: #174EA6;\n",
              "      --disabled-fill-color: #AAA;\n",
              "      --disabled-bg-color: #DDD;\n",
              "  }\n",
              "\n",
              "  [theme=dark] .colab-df-quickchart {\n",
              "      --bg-color: #3B4455;\n",
              "      --fill-color: #D2E3FC;\n",
              "      --hover-bg-color: #434B5C;\n",
              "      --hover-fill-color: #FFFFFF;\n",
              "      --disabled-bg-color: #3B4455;\n",
              "      --disabled-fill-color: #666;\n",
              "  }\n",
              "\n",
              "  .colab-df-quickchart {\n",
              "    background-color: var(--bg-color);\n",
              "    border: none;\n",
              "    border-radius: 50%;\n",
              "    cursor: pointer;\n",
              "    display: none;\n",
              "    fill: var(--fill-color);\n",
              "    height: 32px;\n",
              "    padding: 0;\n",
              "    width: 32px;\n",
              "  }\n",
              "\n",
              "  .colab-df-quickchart:hover {\n",
              "    background-color: var(--hover-bg-color);\n",
              "    box-shadow: 0 1px 2px rgba(60, 64, 67, 0.3), 0 1px 3px 1px rgba(60, 64, 67, 0.15);\n",
              "    fill: var(--button-hover-fill-color);\n",
              "  }\n",
              "\n",
              "  .colab-df-quickchart-complete:disabled,\n",
              "  .colab-df-quickchart-complete:disabled:hover {\n",
              "    background-color: var(--disabled-bg-color);\n",
              "    fill: var(--disabled-fill-color);\n",
              "    box-shadow: none;\n",
              "  }\n",
              "\n",
              "  .colab-df-spinner {\n",
              "    border: 2px solid var(--fill-color);\n",
              "    border-color: transparent;\n",
              "    border-bottom-color: var(--fill-color);\n",
              "    animation:\n",
              "      spin 1s steps(1) infinite;\n",
              "  }\n",
              "\n",
              "  @keyframes spin {\n",
              "    0% {\n",
              "      border-color: transparent;\n",
              "      border-bottom-color: var(--fill-color);\n",
              "      border-left-color: var(--fill-color);\n",
              "    }\n",
              "    20% {\n",
              "      border-color: transparent;\n",
              "      border-left-color: var(--fill-color);\n",
              "      border-top-color: var(--fill-color);\n",
              "    }\n",
              "    30% {\n",
              "      border-color: transparent;\n",
              "      border-left-color: var(--fill-color);\n",
              "      border-top-color: var(--fill-color);\n",
              "      border-right-color: var(--fill-color);\n",
              "    }\n",
              "    40% {\n",
              "      border-color: transparent;\n",
              "      border-right-color: var(--fill-color);\n",
              "      border-top-color: var(--fill-color);\n",
              "    }\n",
              "    60% {\n",
              "      border-color: transparent;\n",
              "      border-right-color: var(--fill-color);\n",
              "    }\n",
              "    80% {\n",
              "      border-color: transparent;\n",
              "      border-right-color: var(--fill-color);\n",
              "      border-bottom-color: var(--fill-color);\n",
              "    }\n",
              "    90% {\n",
              "      border-color: transparent;\n",
              "      border-bottom-color: var(--fill-color);\n",
              "    }\n",
              "  }\n",
              "</style>\n",
              "\n",
              "  <script>\n",
              "    async function quickchart(key) {\n",
              "      const quickchartButtonEl =\n",
              "        document.querySelector('#' + key + ' button');\n",
              "      quickchartButtonEl.disabled = true;  // To prevent multiple clicks.\n",
              "      quickchartButtonEl.classList.add('colab-df-spinner');\n",
              "      try {\n",
              "        const charts = await google.colab.kernel.invokeFunction(\n",
              "            'suggestCharts', [key], {});\n",
              "      } catch (error) {\n",
              "        console.error('Error during call to suggestCharts:', error);\n",
              "      }\n",
              "      quickchartButtonEl.classList.remove('colab-df-spinner');\n",
              "      quickchartButtonEl.classList.add('colab-df-quickchart-complete');\n",
              "    }\n",
              "    (() => {\n",
              "      let quickchartButtonEl =\n",
              "        document.querySelector('#df-0176e4ed-fe1b-4c59-b02f-d6ac5585920c button');\n",
              "      quickchartButtonEl.style.display =\n",
              "        google.colab.kernel.accessAllowed ? 'block' : 'none';\n",
              "    })();\n",
              "  </script>\n",
              "</div>\n",
              "\n",
              "    </div>\n",
              "  </div>\n"
            ],
            "application/vnd.google.colaboratory.intrinsic+json": {
              "type": "dataframe",
              "variable_name": "churn"
            }
          },
          "metadata": {},
          "execution_count": 4
        }
      ],
      "source": [
        "churn.head(10)"
      ]
    },
    {
      "cell_type": "markdown",
      "metadata": {
        "id": "pep9CGIdZdOl"
      },
      "source": [
        "# **Identify any potential problems, such as missing data or data types  are not compatible**\n"
      ]
    },
    {
      "cell_type": "code",
      "execution_count": null,
      "metadata": {
        "id": "1uslBgmJZdOl",
        "colab": {
          "base_uri": "https://localhost:8080/"
        },
        "outputId": "f2594d10-91fe-443f-935c-c8d8108d24d1"
      },
      "outputs": [
        {
          "output_type": "stream",
          "name": "stdout",
          "text": [
            "<class 'pandas.core.frame.DataFrame'>\n",
            "RangeIndex: 7043 entries, 0 to 7042\n",
            "Data columns (total 33 columns):\n",
            " #   Column             Non-Null Count  Dtype  \n",
            "---  ------             --------------  -----  \n",
            " 0   CustomerID         7043 non-null   object \n",
            " 1   Count              7043 non-null   int64  \n",
            " 2   Country            7043 non-null   object \n",
            " 3   State              7043 non-null   object \n",
            " 4   City               7043 non-null   object \n",
            " 5   Zip Code           7043 non-null   int64  \n",
            " 6   Lat Long           7043 non-null   object \n",
            " 7   Latitude           7043 non-null   float64\n",
            " 8   Longitude          7043 non-null   float64\n",
            " 9   Gender             7043 non-null   object \n",
            " 10  Senior Citizen     7043 non-null   object \n",
            " 11  Partner            7043 non-null   object \n",
            " 12  Dependents         7043 non-null   object \n",
            " 13  Tenure Months      7043 non-null   int64  \n",
            " 14  Phone Service      7043 non-null   object \n",
            " 15  Multiple Lines     7043 non-null   object \n",
            " 16  Internet Service   7043 non-null   object \n",
            " 17  Online Security    7043 non-null   object \n",
            " 18  Online Backup      7043 non-null   object \n",
            " 19  Device Protection  7043 non-null   object \n",
            " 20  Tech Support       7043 non-null   object \n",
            " 21  Streaming TV       7043 non-null   object \n",
            " 22  Streaming Movies   7043 non-null   object \n",
            " 23  Contract           7043 non-null   object \n",
            " 24  Paperless Billing  7043 non-null   object \n",
            " 25  Payment Method     7043 non-null   object \n",
            " 26  Monthly Charges    7043 non-null   float64\n",
            " 27  Total Charges      7043 non-null   object \n",
            " 28  Churn Label        7043 non-null   object \n",
            " 29  Churn Value        7043 non-null   int64  \n",
            " 30  Churn Score        7043 non-null   int64  \n",
            " 31  CLTV               7043 non-null   int64  \n",
            " 32  Churn Reason       1869 non-null   object \n",
            "dtypes: float64(3), int64(6), object(24)\n",
            "memory usage: 1.8+ MB\n"
          ]
        }
      ],
      "source": [
        "churn.info()"
      ]
    },
    {
      "cell_type": "markdown",
      "metadata": {
        "id": "4r1GExrXCaYb"
      },
      "source": [
        "# **Check for missing values in each column**\n"
      ]
    },
    {
      "cell_type": "code",
      "execution_count": null,
      "metadata": {
        "colab": {
          "base_uri": "https://localhost:8080/"
        },
        "id": "PDl--NBZCE6v",
        "outputId": "555c3d72-b01c-4447-f49c-6a18fbebf1e4"
      },
      "outputs": [
        {
          "output_type": "stream",
          "name": "stdout",
          "text": [
            "CustomerID       False\n",
            "Count            False\n",
            "Country          False\n",
            "State            False\n",
            "City             False\n",
            "Zip Code         False\n",
            "Lat Long         False\n",
            "Latitude         False\n",
            "Longitude        False\n",
            "Gender           False\n",
            "Senior Citizen   False\n",
            "Partner          False\n",
            "Dependents       False\n",
            "Tenure Months    False\n",
            "Phone Service    False\n",
            "Multiple Lines   False\n",
            "Internet Service False\n",
            "Online Security  False\n",
            "Online Backup    False\n",
            "Device ProtectionFalse\n",
            "Tech Support     False\n",
            "Streaming TV     False\n",
            "Streaming Movies False\n",
            "Contract         False\n",
            "Paperless BillingFalse\n",
            "Payment Method   False\n",
            "Monthly Charges  False\n",
            "Total Charges    False\n",
            "Churn Label      False\n",
            "Churn Value      False\n",
            "Churn Score      False\n",
            "CLTV             False\n",
            "Churn Reason     True\n"
          ]
        }
      ],
      "source": [
        "missing_values = churn.isnull().sum()\n",
        "\n",
        "# Determine the maximum column width\n",
        "max_width = max(len(str(column)) for column in missing_values.index)\n",
        "\n",
        "for column, missing in missing_values.items():\n",
        "    print(\"{:<{width}}{}\".format(column, missing > 0, width=max_width))"
      ]
    },
    {
      "cell_type": "markdown",
      "metadata": {
        "id": "zc7ODfrzZdOm"
      },
      "source": [
        "# **Dataset Shape**\n"
      ]
    },
    {
      "cell_type": "code",
      "execution_count": null,
      "metadata": {
        "id": "vtn6X1OmZdOm",
        "colab": {
          "base_uri": "https://localhost:8080/"
        },
        "outputId": "5060f15a-d619-4de0-a7fc-30c7516fb3d7"
      },
      "outputs": [
        {
          "output_type": "execute_result",
          "data": {
            "text/plain": [
              "(7043, 33)"
            ]
          },
          "metadata": {},
          "execution_count": 7
        }
      ],
      "source": [
        "churn.shape"
      ]
    },
    {
      "cell_type": "markdown",
      "metadata": {
        "id": "YNe-KC7pZdOm"
      },
      "source": [
        "# **Check if there's a Duplicated Rows**\n"
      ]
    },
    {
      "cell_type": "code",
      "execution_count": null,
      "metadata": {
        "id": "sQP_WyRnZdOn",
        "colab": {
          "base_uri": "https://localhost:8080/"
        },
        "outputId": "4607ca9c-e6a9-42f7-b92b-8dd60eb43fbc"
      },
      "outputs": [
        {
          "output_type": "execute_result",
          "data": {
            "text/plain": [
              "0"
            ]
          },
          "metadata": {},
          "execution_count": 8
        }
      ],
      "source": [
        "churn.duplicated().sum()"
      ]
    },
    {
      "cell_type": "markdown",
      "metadata": {
        "id": "RHC6ZDP5ZdOn"
      },
      "source": [
        "# **Count Missing Values on 'Churn Reason' column**\n"
      ]
    },
    {
      "cell_type": "code",
      "execution_count": null,
      "metadata": {
        "id": "sq8YbLWOZdOn",
        "colab": {
          "base_uri": "https://localhost:8080/"
        },
        "outputId": "f174ea58-2c30-4345-e689-930251c4fc89"
      },
      "outputs": [
        {
          "output_type": "execute_result",
          "data": {
            "text/plain": [
              "5174"
            ]
          },
          "metadata": {},
          "execution_count": 9
        }
      ],
      "source": [
        "churn['Churn Reason'].isnull().sum()"
      ]
    },
    {
      "cell_type": "markdown",
      "metadata": {
        "id": "hTWuNDQ3ZdOp"
      },
      "source": [
        "# **Remove unwanted columns 'Churn Reason'**\n"
      ]
    },
    {
      "cell_type": "code",
      "execution_count": null,
      "metadata": {
        "id": "7abh58NvZdOq"
      },
      "outputs": [],
      "source": [
        "#The axis=1 argument tells Pandas to drop the columns, rather than the rows.\n",
        "churn = churn.drop(['Churn Reason','Churn Value'], axis=1)"
      ]
    },
    {
      "cell_type": "markdown",
      "metadata": {
        "id": "YqbCdB4cZdOq"
      },
      "source": [
        "# **Verify that the removal was successful**"
      ]
    },
    {
      "cell_type": "code",
      "execution_count": null,
      "metadata": {
        "id": "By0YKyLZZdOr",
        "colab": {
          "base_uri": "https://localhost:8080/"
        },
        "outputId": "06bb8c9b-3f0b-434f-e0e9-47d63e9e4369"
      },
      "outputs": [
        {
          "output_type": "stream",
          "name": "stdout",
          "text": [
            "The Churn Reason and Churn Value columns have been removed.\n"
          ]
        }
      ],
      "source": [
        "if 'Churn Reason' not in churn and 'Churn Value' not in churn :\n",
        "    print('The Churn Reason and Churn Value columns have been removed.')\n",
        "\n",
        "else:\n",
        "    print('The Churn Reason and Churn Value columns have not been removed.')"
      ]
    },
    {
      "cell_type": "markdown",
      "metadata": {
        "id": "NacdFMwcZdOr"
      },
      "source": [
        "# **Verify that dataset has no null values**"
      ]
    },
    {
      "cell_type": "code",
      "execution_count": null,
      "metadata": {
        "id": "h9FJbfNDZdOr",
        "colab": {
          "base_uri": "https://localhost:8080/"
        },
        "outputId": "27d9ca68-e7dd-4b48-ba5f-354c14ad2257"
      },
      "outputs": [
        {
          "output_type": "execute_result",
          "data": {
            "text/plain": [
              "0"
            ]
          },
          "metadata": {},
          "execution_count": 12
        }
      ],
      "source": [
        "churn.isnull().sum().sum()"
      ]
    },
    {
      "cell_type": "markdown",
      "metadata": {
        "id": "LV60og5zZdOs"
      },
      "source": [
        "# **Data Type Conversion**"
      ]
    },
    {
      "cell_type": "code",
      "execution_count": null,
      "metadata": {
        "id": "4JaYngijZdOs"
      },
      "outputs": [],
      "source": [
        "encoder = preprocessing.LabelEncoder()\n",
        "\n",
        "for i in churn.columns:\n",
        "  if churn[i].dtype == 'object':\n",
        "    churn[i] = churn[i].astype(str)\n",
        "    churn[i] = encoder.fit_transform(churn[i])"
      ]
    },
    {
      "cell_type": "markdown",
      "metadata": {
        "id": "z2XAwJYqZdOs"
      },
      "source": [
        "# **Check if all columns are numeric**\n"
      ]
    },
    {
      "cell_type": "code",
      "execution_count": null,
      "metadata": {
        "id": "1z-PTDe4ZdOt",
        "colab": {
          "base_uri": "https://localhost:8080/"
        },
        "outputId": "433a7f73-a6ad-4091-fd8d-5bbb22760cf5"
      },
      "outputs": [
        {
          "output_type": "stream",
          "name": "stdout",
          "text": [
            "All columns are numeric.\n"
          ]
        }
      ],
      "source": [
        "if churn.select_dtypes(include=['number']).shape[1] == churn.shape[1]:\n",
        "    print(\"All columns are numeric.\")\n",
        "else:\n",
        "    print(\"Dataset contains non-numeric columns.\")"
      ]
    },
    {
      "cell_type": "markdown",
      "metadata": {
        "id": "jjzUpN2aZdOt"
      },
      "source": [
        "# **Dataset after preprocessing**"
      ]
    },
    {
      "cell_type": "code",
      "execution_count": null,
      "metadata": {
        "id": "oBOh8MHzZdOt",
        "colab": {
          "base_uri": "https://localhost:8080/",
          "height": 441
        },
        "outputId": "c13c9a8d-3d06-426f-b0d9-6186e81e4b95"
      },
      "outputs": [
        {
          "output_type": "execute_result",
          "data": {
            "text/plain": [
              "      CustomerID  Count  Country  State  City  Zip Code  Lat Long   Latitude  \\\n",
              "0           2564      1        0      0   562     90003       327  33.964131   \n",
              "1           6511      1        0      0   562     90005       405  34.059281   \n",
              "2           6551      1        0      0   562     90006       393  34.048013   \n",
              "3           5604      1        0      0   562     90010       410  34.062125   \n",
              "4            174      1        0      0   562     90015       385  34.039224   \n",
              "...          ...    ...      ...    ...   ...       ...       ...        ...   \n",
              "7038        1758      1        0      0   521     92285       587  34.341737   \n",
              "7039        4853      1        0      0     2     92301       636  34.667815   \n",
              "7040        1525      1        0      0    22     92304       625  34.559882   \n",
              "7041        3367      1        0      0    26     92305       512  34.167800   \n",
              "7042        2226      1        0      0    32     92308       601  34.424926   \n",
              "\n",
              "       Longitude  Gender  ...  Streaming TV  Streaming Movies  Contract  \\\n",
              "0    -118.272783       1  ...             0                 0         0   \n",
              "1    -118.307420       0  ...             0                 0         0   \n",
              "2    -118.293953       0  ...             2                 2         0   \n",
              "3    -118.315709       0  ...             2                 2         0   \n",
              "4    -118.266293       1  ...             2                 2         0   \n",
              "...          ...     ...  ...           ...               ...       ...   \n",
              "7038 -116.539416       0  ...             1                 1         2   \n",
              "7039 -117.536183       1  ...             2                 2         1   \n",
              "7040 -115.637164       0  ...             2                 2         1   \n",
              "7041 -116.864330       0  ...             0                 0         0   \n",
              "7042 -117.184503       1  ...             2                 2         2   \n",
              "\n",
              "      Paperless Billing  Payment Method  Monthly Charges  Total Charges  \\\n",
              "0                     1               3            53.85            157   \n",
              "1                     1               2            70.70            925   \n",
              "2                     1               2            99.65           6104   \n",
              "3                     1               2           104.80           2646   \n",
              "4                     1               0           103.70           4265   \n",
              "...                 ...             ...              ...            ...   \n",
              "7038                  1               0            21.15            770   \n",
              "7039                  1               3            84.80           1597   \n",
              "7040                  1               1           103.20           5698   \n",
              "7041                  1               2            29.60           2994   \n",
              "7042                  1               0           105.65           5407   \n",
              "\n",
              "      Churn Label  Churn Score  CLTV  \n",
              "0               1           86  3239  \n",
              "1               1           67  2701  \n",
              "2               1           86  5372  \n",
              "3               1           84  5003  \n",
              "4               1           89  5340  \n",
              "...           ...          ...   ...  \n",
              "7038            0           45  5306  \n",
              "7039            0           59  2140  \n",
              "7040            0           71  5560  \n",
              "7041            0           59  2793  \n",
              "7042            0           38  5097  \n",
              "\n",
              "[7043 rows x 31 columns]"
            ],
            "text/html": [
              "\n",
              "  <div id=\"df-7948c85d-064d-4663-a625-fbb3522ba8da\" class=\"colab-df-container\">\n",
              "    <div>\n",
              "<style scoped>\n",
              "    .dataframe tbody tr th:only-of-type {\n",
              "        vertical-align: middle;\n",
              "    }\n",
              "\n",
              "    .dataframe tbody tr th {\n",
              "        vertical-align: top;\n",
              "    }\n",
              "\n",
              "    .dataframe thead th {\n",
              "        text-align: right;\n",
              "    }\n",
              "</style>\n",
              "<table border=\"1\" class=\"dataframe\">\n",
              "  <thead>\n",
              "    <tr style=\"text-align: right;\">\n",
              "      <th></th>\n",
              "      <th>CustomerID</th>\n",
              "      <th>Count</th>\n",
              "      <th>Country</th>\n",
              "      <th>State</th>\n",
              "      <th>City</th>\n",
              "      <th>Zip Code</th>\n",
              "      <th>Lat Long</th>\n",
              "      <th>Latitude</th>\n",
              "      <th>Longitude</th>\n",
              "      <th>Gender</th>\n",
              "      <th>...</th>\n",
              "      <th>Streaming TV</th>\n",
              "      <th>Streaming Movies</th>\n",
              "      <th>Contract</th>\n",
              "      <th>Paperless Billing</th>\n",
              "      <th>Payment Method</th>\n",
              "      <th>Monthly Charges</th>\n",
              "      <th>Total Charges</th>\n",
              "      <th>Churn Label</th>\n",
              "      <th>Churn Score</th>\n",
              "      <th>CLTV</th>\n",
              "    </tr>\n",
              "  </thead>\n",
              "  <tbody>\n",
              "    <tr>\n",
              "      <th>0</th>\n",
              "      <td>2564</td>\n",
              "      <td>1</td>\n",
              "      <td>0</td>\n",
              "      <td>0</td>\n",
              "      <td>562</td>\n",
              "      <td>90003</td>\n",
              "      <td>327</td>\n",
              "      <td>33.964131</td>\n",
              "      <td>-118.272783</td>\n",
              "      <td>1</td>\n",
              "      <td>...</td>\n",
              "      <td>0</td>\n",
              "      <td>0</td>\n",
              "      <td>0</td>\n",
              "      <td>1</td>\n",
              "      <td>3</td>\n",
              "      <td>53.85</td>\n",
              "      <td>157</td>\n",
              "      <td>1</td>\n",
              "      <td>86</td>\n",
              "      <td>3239</td>\n",
              "    </tr>\n",
              "    <tr>\n",
              "      <th>1</th>\n",
              "      <td>6511</td>\n",
              "      <td>1</td>\n",
              "      <td>0</td>\n",
              "      <td>0</td>\n",
              "      <td>562</td>\n",
              "      <td>90005</td>\n",
              "      <td>405</td>\n",
              "      <td>34.059281</td>\n",
              "      <td>-118.307420</td>\n",
              "      <td>0</td>\n",
              "      <td>...</td>\n",
              "      <td>0</td>\n",
              "      <td>0</td>\n",
              "      <td>0</td>\n",
              "      <td>1</td>\n",
              "      <td>2</td>\n",
              "      <td>70.70</td>\n",
              "      <td>925</td>\n",
              "      <td>1</td>\n",
              "      <td>67</td>\n",
              "      <td>2701</td>\n",
              "    </tr>\n",
              "    <tr>\n",
              "      <th>2</th>\n",
              "      <td>6551</td>\n",
              "      <td>1</td>\n",
              "      <td>0</td>\n",
              "      <td>0</td>\n",
              "      <td>562</td>\n",
              "      <td>90006</td>\n",
              "      <td>393</td>\n",
              "      <td>34.048013</td>\n",
              "      <td>-118.293953</td>\n",
              "      <td>0</td>\n",
              "      <td>...</td>\n",
              "      <td>2</td>\n",
              "      <td>2</td>\n",
              "      <td>0</td>\n",
              "      <td>1</td>\n",
              "      <td>2</td>\n",
              "      <td>99.65</td>\n",
              "      <td>6104</td>\n",
              "      <td>1</td>\n",
              "      <td>86</td>\n",
              "      <td>5372</td>\n",
              "    </tr>\n",
              "    <tr>\n",
              "      <th>3</th>\n",
              "      <td>5604</td>\n",
              "      <td>1</td>\n",
              "      <td>0</td>\n",
              "      <td>0</td>\n",
              "      <td>562</td>\n",
              "      <td>90010</td>\n",
              "      <td>410</td>\n",
              "      <td>34.062125</td>\n",
              "      <td>-118.315709</td>\n",
              "      <td>0</td>\n",
              "      <td>...</td>\n",
              "      <td>2</td>\n",
              "      <td>2</td>\n",
              "      <td>0</td>\n",
              "      <td>1</td>\n",
              "      <td>2</td>\n",
              "      <td>104.80</td>\n",
              "      <td>2646</td>\n",
              "      <td>1</td>\n",
              "      <td>84</td>\n",
              "      <td>5003</td>\n",
              "    </tr>\n",
              "    <tr>\n",
              "      <th>4</th>\n",
              "      <td>174</td>\n",
              "      <td>1</td>\n",
              "      <td>0</td>\n",
              "      <td>0</td>\n",
              "      <td>562</td>\n",
              "      <td>90015</td>\n",
              "      <td>385</td>\n",
              "      <td>34.039224</td>\n",
              "      <td>-118.266293</td>\n",
              "      <td>1</td>\n",
              "      <td>...</td>\n",
              "      <td>2</td>\n",
              "      <td>2</td>\n",
              "      <td>0</td>\n",
              "      <td>1</td>\n",
              "      <td>0</td>\n",
              "      <td>103.70</td>\n",
              "      <td>4265</td>\n",
              "      <td>1</td>\n",
              "      <td>89</td>\n",
              "      <td>5340</td>\n",
              "    </tr>\n",
              "    <tr>\n",
              "      <th>...</th>\n",
              "      <td>...</td>\n",
              "      <td>...</td>\n",
              "      <td>...</td>\n",
              "      <td>...</td>\n",
              "      <td>...</td>\n",
              "      <td>...</td>\n",
              "      <td>...</td>\n",
              "      <td>...</td>\n",
              "      <td>...</td>\n",
              "      <td>...</td>\n",
              "      <td>...</td>\n",
              "      <td>...</td>\n",
              "      <td>...</td>\n",
              "      <td>...</td>\n",
              "      <td>...</td>\n",
              "      <td>...</td>\n",
              "      <td>...</td>\n",
              "      <td>...</td>\n",
              "      <td>...</td>\n",
              "      <td>...</td>\n",
              "      <td>...</td>\n",
              "    </tr>\n",
              "    <tr>\n",
              "      <th>7038</th>\n",
              "      <td>1758</td>\n",
              "      <td>1</td>\n",
              "      <td>0</td>\n",
              "      <td>0</td>\n",
              "      <td>521</td>\n",
              "      <td>92285</td>\n",
              "      <td>587</td>\n",
              "      <td>34.341737</td>\n",
              "      <td>-116.539416</td>\n",
              "      <td>0</td>\n",
              "      <td>...</td>\n",
              "      <td>1</td>\n",
              "      <td>1</td>\n",
              "      <td>2</td>\n",
              "      <td>1</td>\n",
              "      <td>0</td>\n",
              "      <td>21.15</td>\n",
              "      <td>770</td>\n",
              "      <td>0</td>\n",
              "      <td>45</td>\n",
              "      <td>5306</td>\n",
              "    </tr>\n",
              "    <tr>\n",
              "      <th>7039</th>\n",
              "      <td>4853</td>\n",
              "      <td>1</td>\n",
              "      <td>0</td>\n",
              "      <td>0</td>\n",
              "      <td>2</td>\n",
              "      <td>92301</td>\n",
              "      <td>636</td>\n",
              "      <td>34.667815</td>\n",
              "      <td>-117.536183</td>\n",
              "      <td>1</td>\n",
              "      <td>...</td>\n",
              "      <td>2</td>\n",
              "      <td>2</td>\n",
              "      <td>1</td>\n",
              "      <td>1</td>\n",
              "      <td>3</td>\n",
              "      <td>84.80</td>\n",
              "      <td>1597</td>\n",
              "      <td>0</td>\n",
              "      <td>59</td>\n",
              "      <td>2140</td>\n",
              "    </tr>\n",
              "    <tr>\n",
              "      <th>7040</th>\n",
              "      <td>1525</td>\n",
              "      <td>1</td>\n",
              "      <td>0</td>\n",
              "      <td>0</td>\n",
              "      <td>22</td>\n",
              "      <td>92304</td>\n",
              "      <td>625</td>\n",
              "      <td>34.559882</td>\n",
              "      <td>-115.637164</td>\n",
              "      <td>0</td>\n",
              "      <td>...</td>\n",
              "      <td>2</td>\n",
              "      <td>2</td>\n",
              "      <td>1</td>\n",
              "      <td>1</td>\n",
              "      <td>1</td>\n",
              "      <td>103.20</td>\n",
              "      <td>5698</td>\n",
              "      <td>0</td>\n",
              "      <td>71</td>\n",
              "      <td>5560</td>\n",
              "    </tr>\n",
              "    <tr>\n",
              "      <th>7041</th>\n",
              "      <td>3367</td>\n",
              "      <td>1</td>\n",
              "      <td>0</td>\n",
              "      <td>0</td>\n",
              "      <td>26</td>\n",
              "      <td>92305</td>\n",
              "      <td>512</td>\n",
              "      <td>34.167800</td>\n",
              "      <td>-116.864330</td>\n",
              "      <td>0</td>\n",
              "      <td>...</td>\n",
              "      <td>0</td>\n",
              "      <td>0</td>\n",
              "      <td>0</td>\n",
              "      <td>1</td>\n",
              "      <td>2</td>\n",
              "      <td>29.60</td>\n",
              "      <td>2994</td>\n",
              "      <td>0</td>\n",
              "      <td>59</td>\n",
              "      <td>2793</td>\n",
              "    </tr>\n",
              "    <tr>\n",
              "      <th>7042</th>\n",
              "      <td>2226</td>\n",
              "      <td>1</td>\n",
              "      <td>0</td>\n",
              "      <td>0</td>\n",
              "      <td>32</td>\n",
              "      <td>92308</td>\n",
              "      <td>601</td>\n",
              "      <td>34.424926</td>\n",
              "      <td>-117.184503</td>\n",
              "      <td>1</td>\n",
              "      <td>...</td>\n",
              "      <td>2</td>\n",
              "      <td>2</td>\n",
              "      <td>2</td>\n",
              "      <td>1</td>\n",
              "      <td>0</td>\n",
              "      <td>105.65</td>\n",
              "      <td>5407</td>\n",
              "      <td>0</td>\n",
              "      <td>38</td>\n",
              "      <td>5097</td>\n",
              "    </tr>\n",
              "  </tbody>\n",
              "</table>\n",
              "<p>7043 rows × 31 columns</p>\n",
              "</div>\n",
              "    <div class=\"colab-df-buttons\">\n",
              "\n",
              "  <div class=\"colab-df-container\">\n",
              "    <button class=\"colab-df-convert\" onclick=\"convertToInteractive('df-7948c85d-064d-4663-a625-fbb3522ba8da')\"\n",
              "            title=\"Convert this dataframe to an interactive table.\"\n",
              "            style=\"display:none;\">\n",
              "\n",
              "  <svg xmlns=\"http://www.w3.org/2000/svg\" height=\"24px\" viewBox=\"0 -960 960 960\">\n",
              "    <path d=\"M120-120v-720h720v720H120Zm60-500h600v-160H180v160Zm220 220h160v-160H400v160Zm0 220h160v-160H400v160ZM180-400h160v-160H180v160Zm440 0h160v-160H620v160ZM180-180h160v-160H180v160Zm440 0h160v-160H620v160Z\"/>\n",
              "  </svg>\n",
              "    </button>\n",
              "\n",
              "  <style>\n",
              "    .colab-df-container {\n",
              "      display:flex;\n",
              "      gap: 12px;\n",
              "    }\n",
              "\n",
              "    .colab-df-convert {\n",
              "      background-color: #E8F0FE;\n",
              "      border: none;\n",
              "      border-radius: 50%;\n",
              "      cursor: pointer;\n",
              "      display: none;\n",
              "      fill: #1967D2;\n",
              "      height: 32px;\n",
              "      padding: 0 0 0 0;\n",
              "      width: 32px;\n",
              "    }\n",
              "\n",
              "    .colab-df-convert:hover {\n",
              "      background-color: #E2EBFA;\n",
              "      box-shadow: 0px 1px 2px rgba(60, 64, 67, 0.3), 0px 1px 3px 1px rgba(60, 64, 67, 0.15);\n",
              "      fill: #174EA6;\n",
              "    }\n",
              "\n",
              "    .colab-df-buttons div {\n",
              "      margin-bottom: 4px;\n",
              "    }\n",
              "\n",
              "    [theme=dark] .colab-df-convert {\n",
              "      background-color: #3B4455;\n",
              "      fill: #D2E3FC;\n",
              "    }\n",
              "\n",
              "    [theme=dark] .colab-df-convert:hover {\n",
              "      background-color: #434B5C;\n",
              "      box-shadow: 0px 1px 3px 1px rgba(0, 0, 0, 0.15);\n",
              "      filter: drop-shadow(0px 1px 2px rgba(0, 0, 0, 0.3));\n",
              "      fill: #FFFFFF;\n",
              "    }\n",
              "  </style>\n",
              "\n",
              "    <script>\n",
              "      const buttonEl =\n",
              "        document.querySelector('#df-7948c85d-064d-4663-a625-fbb3522ba8da button.colab-df-convert');\n",
              "      buttonEl.style.display =\n",
              "        google.colab.kernel.accessAllowed ? 'block' : 'none';\n",
              "\n",
              "      async function convertToInteractive(key) {\n",
              "        const element = document.querySelector('#df-7948c85d-064d-4663-a625-fbb3522ba8da');\n",
              "        const dataTable =\n",
              "          await google.colab.kernel.invokeFunction('convertToInteractive',\n",
              "                                                    [key], {});\n",
              "        if (!dataTable) return;\n",
              "\n",
              "        const docLinkHtml = 'Like what you see? Visit the ' +\n",
              "          '<a target=\"_blank\" href=https://colab.research.google.com/notebooks/data_table.ipynb>data table notebook</a>'\n",
              "          + ' to learn more about interactive tables.';\n",
              "        element.innerHTML = '';\n",
              "        dataTable['output_type'] = 'display_data';\n",
              "        await google.colab.output.renderOutput(dataTable, element);\n",
              "        const docLink = document.createElement('div');\n",
              "        docLink.innerHTML = docLinkHtml;\n",
              "        element.appendChild(docLink);\n",
              "      }\n",
              "    </script>\n",
              "  </div>\n",
              "\n",
              "\n",
              "<div id=\"df-c2e6171e-8c6a-4efc-9ac2-698c73aaafaa\">\n",
              "  <button class=\"colab-df-quickchart\" onclick=\"quickchart('df-c2e6171e-8c6a-4efc-9ac2-698c73aaafaa')\"\n",
              "            title=\"Suggest charts\"\n",
              "            style=\"display:none;\">\n",
              "\n",
              "<svg xmlns=\"http://www.w3.org/2000/svg\" height=\"24px\"viewBox=\"0 0 24 24\"\n",
              "     width=\"24px\">\n",
              "    <g>\n",
              "        <path d=\"M19 3H5c-1.1 0-2 .9-2 2v14c0 1.1.9 2 2 2h14c1.1 0 2-.9 2-2V5c0-1.1-.9-2-2-2zM9 17H7v-7h2v7zm4 0h-2V7h2v10zm4 0h-2v-4h2v4z\"/>\n",
              "    </g>\n",
              "</svg>\n",
              "  </button>\n",
              "\n",
              "<style>\n",
              "  .colab-df-quickchart {\n",
              "      --bg-color: #E8F0FE;\n",
              "      --fill-color: #1967D2;\n",
              "      --hover-bg-color: #E2EBFA;\n",
              "      --hover-fill-color: #174EA6;\n",
              "      --disabled-fill-color: #AAA;\n",
              "      --disabled-bg-color: #DDD;\n",
              "  }\n",
              "\n",
              "  [theme=dark] .colab-df-quickchart {\n",
              "      --bg-color: #3B4455;\n",
              "      --fill-color: #D2E3FC;\n",
              "      --hover-bg-color: #434B5C;\n",
              "      --hover-fill-color: #FFFFFF;\n",
              "      --disabled-bg-color: #3B4455;\n",
              "      --disabled-fill-color: #666;\n",
              "  }\n",
              "\n",
              "  .colab-df-quickchart {\n",
              "    background-color: var(--bg-color);\n",
              "    border: none;\n",
              "    border-radius: 50%;\n",
              "    cursor: pointer;\n",
              "    display: none;\n",
              "    fill: var(--fill-color);\n",
              "    height: 32px;\n",
              "    padding: 0;\n",
              "    width: 32px;\n",
              "  }\n",
              "\n",
              "  .colab-df-quickchart:hover {\n",
              "    background-color: var(--hover-bg-color);\n",
              "    box-shadow: 0 1px 2px rgba(60, 64, 67, 0.3), 0 1px 3px 1px rgba(60, 64, 67, 0.15);\n",
              "    fill: var(--button-hover-fill-color);\n",
              "  }\n",
              "\n",
              "  .colab-df-quickchart-complete:disabled,\n",
              "  .colab-df-quickchart-complete:disabled:hover {\n",
              "    background-color: var(--disabled-bg-color);\n",
              "    fill: var(--disabled-fill-color);\n",
              "    box-shadow: none;\n",
              "  }\n",
              "\n",
              "  .colab-df-spinner {\n",
              "    border: 2px solid var(--fill-color);\n",
              "    border-color: transparent;\n",
              "    border-bottom-color: var(--fill-color);\n",
              "    animation:\n",
              "      spin 1s steps(1) infinite;\n",
              "  }\n",
              "\n",
              "  @keyframes spin {\n",
              "    0% {\n",
              "      border-color: transparent;\n",
              "      border-bottom-color: var(--fill-color);\n",
              "      border-left-color: var(--fill-color);\n",
              "    }\n",
              "    20% {\n",
              "      border-color: transparent;\n",
              "      border-left-color: var(--fill-color);\n",
              "      border-top-color: var(--fill-color);\n",
              "    }\n",
              "    30% {\n",
              "      border-color: transparent;\n",
              "      border-left-color: var(--fill-color);\n",
              "      border-top-color: var(--fill-color);\n",
              "      border-right-color: var(--fill-color);\n",
              "    }\n",
              "    40% {\n",
              "      border-color: transparent;\n",
              "      border-right-color: var(--fill-color);\n",
              "      border-top-color: var(--fill-color);\n",
              "    }\n",
              "    60% {\n",
              "      border-color: transparent;\n",
              "      border-right-color: var(--fill-color);\n",
              "    }\n",
              "    80% {\n",
              "      border-color: transparent;\n",
              "      border-right-color: var(--fill-color);\n",
              "      border-bottom-color: var(--fill-color);\n",
              "    }\n",
              "    90% {\n",
              "      border-color: transparent;\n",
              "      border-bottom-color: var(--fill-color);\n",
              "    }\n",
              "  }\n",
              "</style>\n",
              "\n",
              "  <script>\n",
              "    async function quickchart(key) {\n",
              "      const quickchartButtonEl =\n",
              "        document.querySelector('#' + key + ' button');\n",
              "      quickchartButtonEl.disabled = true;  // To prevent multiple clicks.\n",
              "      quickchartButtonEl.classList.add('colab-df-spinner');\n",
              "      try {\n",
              "        const charts = await google.colab.kernel.invokeFunction(\n",
              "            'suggestCharts', [key], {});\n",
              "      } catch (error) {\n",
              "        console.error('Error during call to suggestCharts:', error);\n",
              "      }\n",
              "      quickchartButtonEl.classList.remove('colab-df-spinner');\n",
              "      quickchartButtonEl.classList.add('colab-df-quickchart-complete');\n",
              "    }\n",
              "    (() => {\n",
              "      let quickchartButtonEl =\n",
              "        document.querySelector('#df-c2e6171e-8c6a-4efc-9ac2-698c73aaafaa button');\n",
              "      quickchartButtonEl.style.display =\n",
              "        google.colab.kernel.accessAllowed ? 'block' : 'none';\n",
              "    })();\n",
              "  </script>\n",
              "</div>\n",
              "\n",
              "  <div id=\"id_6cfb4dbe-ae7f-45a8-8b5c-4929fbfe92a1\">\n",
              "    <style>\n",
              "      .colab-df-generate {\n",
              "        background-color: #E8F0FE;\n",
              "        border: none;\n",
              "        border-radius: 50%;\n",
              "        cursor: pointer;\n",
              "        display: none;\n",
              "        fill: #1967D2;\n",
              "        height: 32px;\n",
              "        padding: 0 0 0 0;\n",
              "        width: 32px;\n",
              "      }\n",
              "\n",
              "      .colab-df-generate:hover {\n",
              "        background-color: #E2EBFA;\n",
              "        box-shadow: 0px 1px 2px rgba(60, 64, 67, 0.3), 0px 1px 3px 1px rgba(60, 64, 67, 0.15);\n",
              "        fill: #174EA6;\n",
              "      }\n",
              "\n",
              "      [theme=dark] .colab-df-generate {\n",
              "        background-color: #3B4455;\n",
              "        fill: #D2E3FC;\n",
              "      }\n",
              "\n",
              "      [theme=dark] .colab-df-generate:hover {\n",
              "        background-color: #434B5C;\n",
              "        box-shadow: 0px 1px 3px 1px rgba(0, 0, 0, 0.15);\n",
              "        filter: drop-shadow(0px 1px 2px rgba(0, 0, 0, 0.3));\n",
              "        fill: #FFFFFF;\n",
              "      }\n",
              "    </style>\n",
              "    <button class=\"colab-df-generate\" onclick=\"generateWithVariable('churn')\"\n",
              "            title=\"Generate code using this dataframe.\"\n",
              "            style=\"display:none;\">\n",
              "\n",
              "  <svg xmlns=\"http://www.w3.org/2000/svg\" height=\"24px\"viewBox=\"0 0 24 24\"\n",
              "       width=\"24px\">\n",
              "    <path d=\"M7,19H8.4L18.45,9,17,7.55,7,17.6ZM5,21V16.75L18.45,3.32a2,2,0,0,1,2.83,0l1.4,1.43a1.91,1.91,0,0,1,.58,1.4,1.91,1.91,0,0,1-.58,1.4L9.25,21ZM18.45,9,17,7.55Zm-12,3A5.31,5.31,0,0,0,4.9,8.1,5.31,5.31,0,0,0,1,6.5,5.31,5.31,0,0,0,4.9,4.9,5.31,5.31,0,0,0,6.5,1,5.31,5.31,0,0,0,8.1,4.9,5.31,5.31,0,0,0,12,6.5,5.46,5.46,0,0,0,6.5,12Z\"/>\n",
              "  </svg>\n",
              "    </button>\n",
              "    <script>\n",
              "      (() => {\n",
              "      const buttonEl =\n",
              "        document.querySelector('#id_6cfb4dbe-ae7f-45a8-8b5c-4929fbfe92a1 button.colab-df-generate');\n",
              "      buttonEl.style.display =\n",
              "        google.colab.kernel.accessAllowed ? 'block' : 'none';\n",
              "\n",
              "      buttonEl.onclick = () => {\n",
              "        google.colab.notebook.generateWithVariable('churn');\n",
              "      }\n",
              "      })();\n",
              "    </script>\n",
              "  </div>\n",
              "\n",
              "    </div>\n",
              "  </div>\n"
            ],
            "application/vnd.google.colaboratory.intrinsic+json": {
              "type": "dataframe",
              "variable_name": "churn"
            }
          },
          "metadata": {},
          "execution_count": 15
        }
      ],
      "source": [
        "churn"
      ]
    },
    {
      "cell_type": "markdown",
      "metadata": {
        "id": "T46TchQpZdOt"
      },
      "source": [
        "# **Split the DataFrame into a training set=75% and a testing set=25%**\n"
      ]
    },
    {
      "cell_type": "code",
      "execution_count": null,
      "metadata": {
        "id": "pgMsfwu5ZdOu",
        "colab": {
          "base_uri": "https://localhost:8080/"
        },
        "outputId": "0519238d-3904-45c1-b7e2-188f3c4d142d"
      },
      "outputs": [
        {
          "output_type": "stream",
          "name": "stdout",
          "text": [
            "(5282, 30)\n",
            "(1761, 30)\n"
          ]
        }
      ],
      "source": [
        "\n",
        "#The x variable --> independent variables,\n",
        "X = churn.drop('Churn Label', axis=1)\n",
        "\n",
        "#The y variable --> dependent'Target' variable.\n",
        "y = churn['Churn Label']\n",
        "\n",
        "#The random_state parameter is used to ensure that the data is split randomly.\n",
        "X_train, X_test, y_train, y_test = train_test_split(X, y, test_size=0.25, random_state=42)\n",
        "\n",
        "# Print the shape of the training set-->(row,column)\n",
        "print(X_train.shape)\n",
        "\n",
        "# Print the shape of the testing set-->(row,column)\n",
        "print(X_test.shape)\n"
      ]
    },
    {
      "cell_type": "markdown",
      "metadata": {
        "id": "x6Mk5OIgZdOu"
      },
      "source": [
        "# **Random Forest model**"
      ]
    },
    {
      "cell_type": "code",
      "execution_count": null,
      "metadata": {
        "id": "LDHoniy3ZdOv"
      },
      "outputs": [],
      "source": [
        "clf_rf = RandomForestClassifier()\n",
        "\n",
        "#fit--> creating a number of decision trees and  trained on a subset of the training data.\n",
        "#The decision trees are combined to make a prediction.\n",
        "clf_rf.fit(X_train, y_train)\n",
        "\n",
        "# Make predictions on the test set\n",
        "y_pred = clf_rf.predict(X_test)"
      ]
    },
    {
      "cell_type": "markdown",
      "metadata": {
        "id": "3tqt7YT-ZdOv"
      },
      "source": [
        "# **Evaluate the performance of the model**"
      ]
    },
    {
      "cell_type": "code",
      "execution_count": null,
      "metadata": {
        "id": "Z8ifo0KTZdOw",
        "colab": {
          "base_uri": "https://localhost:8080/"
        },
        "outputId": "f191bb8b-41ce-4554-afa9-eb3d805f3418"
      },
      "outputs": [
        {
          "output_type": "stream",
          "name": "stdout",
          "text": [
            "Accuracy: 92.5 %\n",
            "Precision: 88.63 %\n",
            "Recall: 84.37 %\n",
            "F1-score: 86.45 %\n"
          ]
        }
      ],
      "source": [
        "# Accuracy score: Compare the predicted labels (y_pred) with the actual labels (y_test).\n",
        "accuracy = round(accuracy_score(y_test, y_pred)*100,2)\n",
        "precision = round(precision_score(y_test, y_pred)*100,2)\n",
        "recall = round(recall_score(y_test, y_pred)*100,2)\n",
        "F1_score = round(f1_score(y_test, y_pred)*100,2)\n",
        "\n",
        "print(\"Accuracy:\", accuracy,\"%\")\n",
        "print(\"Precision:\", precision,\"%\")\n",
        "print(\"Recall:\", recall,\"%\")\n",
        "print(\"F1-score:\", F1_score,\"%\")"
      ]
    },
    {
      "cell_type": "markdown",
      "metadata": {
        "id": "AmTfWIFmZdOw"
      },
      "source": [
        "# **Feature Selection by PSO Algorithm**\n",
        "--------------------------------------"
      ]
    },
    {
      "cell_type": "markdown",
      "metadata": {
        "id": "3Gh-RjxzZdOx"
      },
      "source": [
        "# **Calculate Accuracy for each chromosome**"
      ]
    },
    {
      "cell_type": "code",
      "execution_count": null,
      "metadata": {
        "id": "gYWz8NaBZdOx"
      },
      "outputs": [],
      "source": [
        "def calculate_accuracy(X_selected):\n",
        "    X=churn[X_selected]\n",
        "    X_train, X_test, y_train, y_test = train_test_split(X, y, test_size=0.25, random_state=42)\n",
        "    clf_rf = RandomForestClassifier()\n",
        "    clf_rf.fit(X_train, y_train)\n",
        "    accuracy=round(clf_rf.score(X_test,y_test)*100,2)\n",
        "    print('Accuracy:',accuracy,\"%\")\n",
        "    return accuracy"
      ]
    },
    {
      "cell_type": "markdown",
      "metadata": {
        "id": "6vziFSziZdOx"
      },
      "source": [
        "# **Convert Features to list**"
      ]
    },
    {
      "cell_type": "code",
      "execution_count": null,
      "metadata": {
        "id": "qQC8mZirZdOy"
      },
      "outputs": [],
      "source": [
        "features=churn.drop(labels= 'Churn Label', axis= 1).columns.values.tolist()"
      ]
    },
    {
      "cell_type": "markdown",
      "metadata": {
        "id": "Pv7Y9OHYZdOy"
      },
      "source": [
        "# **Features Names**"
      ]
    },
    {
      "cell_type": "code",
      "execution_count": null,
      "metadata": {
        "id": "7drqgFpLZdOy",
        "colab": {
          "base_uri": "https://localhost:8080/"
        },
        "outputId": "c9645cbe-973c-4da2-a818-83b633805b79"
      },
      "outputs": [
        {
          "output_type": "stream",
          "name": "stdout",
          "text": [
            "['CustomerID', 'Count', 'Country', 'State', 'City', 'Zip Code', 'Lat Long', 'Latitude', 'Longitude', 'Gender', 'Senior Citizen', 'Partner', 'Dependents', 'Tenure Months', 'Phone Service', 'Multiple Lines', 'Internet Service', 'Online Security', 'Online Backup', 'Device Protection', 'Tech Support', 'Streaming TV', 'Streaming Movies', 'Contract', 'Paperless Billing', 'Payment Method', 'Monthly Charges', 'Total Charges', 'Churn Score', 'CLTV']\n"
          ]
        }
      ],
      "source": [
        "print(features)"
      ]
    },
    {
      "cell_type": "markdown",
      "metadata": {
        "id": "tvl9OWfnZdO7"
      },
      "source": [
        "# **Choose Random Features For Each Chromosome**"
      ]
    },
    {
      "cell_type": "code",
      "execution_count": null,
      "metadata": {
        "id": "uPsj0OJgZdO8",
        "colab": {
          "base_uri": "https://localhost:8080/"
        },
        "outputId": "1cd7bdfb-5792-4e39-e5da-560aedf9c661"
      },
      "outputs": [
        {
          "output_type": "stream",
          "name": "stdout",
          "text": [
            "30\n"
          ]
        }
      ],
      "source": [
        "num_rows, features_num = X.shape\n",
        "print(features_num)\n",
        "\n",
        "chromosome_size=10\n",
        "features_probability=[0,1]\n",
        "#All chromosomes with features probability , cont\n",
        "chromosomes=[]\n",
        "#chromosomes\n",
        "for i in range(chromosome_size):\n",
        "    chromosome_with_features_probability=[]\n",
        "    #feature/column\n",
        "    for i in range(features_num):\n",
        "        item = random.choice(tuple(features_probability))\n",
        "        chromosome_with_features_probability.append(item)\n",
        "    chromosomes.append(chromosome_with_features_probability)"
      ]
    },
    {
      "cell_type": "markdown",
      "metadata": {
        "id": "tP2XcaG1ZdO8"
      },
      "source": [
        "# **Take The Selected Features Only**"
      ]
    },
    {
      "cell_type": "code",
      "execution_count": null,
      "metadata": {
        "id": "UulwtMMnZdO8"
      },
      "outputs": [],
      "source": [
        "def data(chromosome):\n",
        "    chromosomes_with_selected_features=[]\n",
        "    for i in range(len(chromosome)):\n",
        "        if chromosome[i]==1:\n",
        "                chromosomes_with_selected_features.append(features[i])\n",
        "    return chromosomes_with_selected_features"
      ]
    },
    {
      "cell_type": "markdown",
      "metadata": {
        "id": "jGsjryBlZdO9"
      },
      "source": [
        "# **Calculate personal best accuracy for  chromosomes**"
      ]
    },
    {
      "cell_type": "code",
      "execution_count": null,
      "metadata": {
        "id": "e6QXMUz9ZdO9",
        "colab": {
          "base_uri": "https://localhost:8080/"
        },
        "outputId": "b6dafe18-d7cf-49b6-d8f4-1d4e7d7ee58b"
      },
      "outputs": [
        {
          "output_type": "stream",
          "name": "stdout",
          "text": [
            "Accuracy: 76.09 %\n",
            "Accuracy: 92.45 %\n",
            "Accuracy: 76.43 %\n",
            "Accuracy: 72.46 %\n",
            "Accuracy: 73.99 %\n",
            "Accuracy: 78.53 %\n",
            "Accuracy: 91.94 %\n",
            "Accuracy: 90.06 %\n",
            "Accuracy: 78.59 %\n",
            "Accuracy: 77.85 %\n"
          ]
        }
      ],
      "source": [
        "old_fitness_values=[]\n",
        "\n",
        "def calculate_fitness_values():\n",
        "    for i in range(len(chromosomes)):\n",
        "         old_fitness_values.append(calculate_accuracy(data(chromosomes[i])))\n",
        "\n",
        "calculate_fitness_values()"
      ]
    },
    {
      "cell_type": "markdown",
      "metadata": {
        "id": "ParcW-MqZdO9"
      },
      "source": [
        "# **Calculate Personal Best**\n",
        "\n",
        "Store its value in The Original list\"chromosome\""
      ]
    },
    {
      "cell_type": "code",
      "execution_count": null,
      "metadata": {
        "id": "6W9L40srZdO-"
      },
      "outputs": [],
      "source": [
        "def Calculate_PersonalBest(chromosomes1):\n",
        "    new_fitness_values=[]\n",
        "    for i in range(len(chromosomes1)):\n",
        "        new_fitness_values.append(calculate_accuracy(data(chromosomes1[i])))\n",
        "    for j in range(len(new_fitness_values)):\n",
        "        if(new_fitness_values[j]>old_fitness_values[j]):\n",
        "            chromosomes[j]=chromosomes1[j]\n",
        "            old_fitness_values[j]=new_fitness_values[j]\n",
        "    return new_fitness_values"
      ]
    },
    {
      "cell_type": "markdown",
      "metadata": {
        "id": "SL_DT3vqZdO-"
      },
      "source": [
        "# **Calculate Velocity**"
      ]
    },
    {
      "cell_type": "code",
      "execution_count": null,
      "metadata": {
        "id": "Lnd_gTjXZdO-"
      },
      "outputs": [],
      "source": [
        "def checkvelocity(globalbest):\n",
        "    velocity=[]\n",
        "    for j in range(len(chromosomes)):\n",
        "        velocity.append(list(0+1*(np.random.random(1)[0])*(np.array(chromosomes[j])-np.array(chromosomes[j]))+1*(np.random.random(1)[0])*(np.array(globalbest)-np.array(chromosomes[j]))))\n",
        "    #print(velocity)\n",
        "    return velocity"
      ]
    },
    {
      "cell_type": "markdown",
      "metadata": {
        "id": "HWjE16z9ZdO_"
      },
      "source": [
        "# **New Position**"
      ]
    },
    {
      "cell_type": "code",
      "execution_count": null,
      "metadata": {
        "id": "wmLI43kpZdO_"
      },
      "outputs": [],
      "source": [
        "def addingchromosomes(velocity):\n",
        "    chromosomes2=[]\n",
        "    for i in range(len(velocity)):\n",
        "        nextchromo=[]\n",
        "        for j in range(len(velocity[i])):\n",
        "            nextchromo.append(chromosomes[i][j]+velocity[i][j])\n",
        "        chromosomes2.append(nextchromo)\n",
        "    return chromosomes2"
      ]
    },
    {
      "cell_type": "markdown",
      "metadata": {
        "id": "XwirywdvZdPA"
      },
      "source": [
        "# **Normalization**"
      ]
    },
    {
      "cell_type": "code",
      "execution_count": null,
      "metadata": {
        "id": "xute4YK-ZdPB"
      },
      "outputs": [],
      "source": [
        "def normalize(chromosomes2):\n",
        "    for l in range(len(chromosomes2)):\n",
        "        for m in range(len(chromosomes2[l])):\n",
        "            if chromosomes2[l][m]>0.5:\n",
        "                chromosomes2[l][m]=1\n",
        "            else:\n",
        "                chromosomes2[l][m]=0\n",
        "    return chromosomes2"
      ]
    },
    {
      "cell_type": "markdown",
      "metadata": {
        "id": "axE0BFftbvQN"
      },
      "source": [
        "# **Calculate Global Best**"
      ]
    },
    {
      "cell_type": "code",
      "execution_count": null,
      "metadata": {
        "id": "u6YCQwWgZdPB",
        "colab": {
          "base_uri": "https://localhost:8080/"
        },
        "outputId": "76db8270-120d-4ea4-fb9e-3b6e5dbd5b55"
      },
      "outputs": [
        {
          "output_type": "stream",
          "name": "stdout",
          "text": [
            "Accuracy: 92.84 %\n",
            "Accuracy: 92.62 %\n",
            "Accuracy: 92.9 %\n",
            "Accuracy: 92.62 %\n",
            "Accuracy: 92.79 %\n",
            "Accuracy: 92.96 %\n",
            "Accuracy: 92.79 %\n",
            "Accuracy: 92.45 %\n",
            "Accuracy: 79.1 %\n",
            "Accuracy: 77.97 %\n",
            "Accuracy: 92.45 %\n",
            "Accuracy: 92.28 %\n",
            "Accuracy: 92.73 %\n",
            "Accuracy: 92.5 %\n",
            "Accuracy: 92.28 %\n",
            "Accuracy: 92.62 %\n",
            "Accuracy: 92.5 %\n",
            "Accuracy: 92.39 %\n",
            "Accuracy: 92.45 %\n",
            "Accuracy: 77.0 %\n",
            "Accuracy: 92.33 %\n",
            "Accuracy: 92.79 %\n",
            "Accuracy: 92.67 %\n",
            "Accuracy: 93.02 %\n",
            "Accuracy: 92.5 %\n",
            "Accuracy: 92.45 %\n",
            "Accuracy: 92.5 %\n",
            "Accuracy: 92.67 %\n",
            "Accuracy: 92.96 %\n",
            "Accuracy: 92.67 %\n",
            "Accuracy: 92.45 %\n",
            "Accuracy: 92.62 %\n",
            "Accuracy: 92.67 %\n",
            "Accuracy: 92.67 %\n",
            "Accuracy: 92.67 %\n",
            "Accuracy: 92.79 %\n",
            "Accuracy: 92.62 %\n",
            "Accuracy: 92.5 %\n",
            "Accuracy: 92.84 %\n",
            "Accuracy: 92.79 %\n",
            "Accuracy: 92.79 %\n",
            "Accuracy: 92.73 %\n",
            "Accuracy: 92.96 %\n",
            "Accuracy: 92.45 %\n",
            "Accuracy: 92.84 %\n",
            "Accuracy: 92.56 %\n",
            "Accuracy: 92.5 %\n",
            "Accuracy: 92.84 %\n",
            "Accuracy: 92.9 %\n",
            "Accuracy: 92.73 %\n"
          ]
        }
      ],
      "source": [
        "max(old_fitness_values)\n",
        "ind = old_fitness_values.index(max(old_fitness_values))\n",
        "globalbest=chromosomes[ind]\n",
        "for i in range(5):\n",
        "    chromosomes2=[]\n",
        "    personal=[]\n",
        "    velocity=checkvelocity(globalbest)\n",
        "    chromosomes2=addingchromosomes(velocity)\n",
        "    chromosomes2=normalize(chromosomes2)\n",
        "    personal=Calculate_PersonalBest(chromosomes2)\n",
        "    globalbest=[]\n",
        "    max(old_fitness_values)\n",
        "    ind = old_fitness_values.index(max(old_fitness_values))\n",
        "    globalbest=chromosomes[ind]"
      ]
    },
    {
      "cell_type": "markdown",
      "metadata": {
        "id": "IQwCx0nUb5lo"
      },
      "source": [
        "# **Max Fitness Value**"
      ]
    },
    {
      "cell_type": "code",
      "execution_count": null,
      "metadata": {
        "id": "BT-etX9-ZdPC",
        "colab": {
          "base_uri": "https://localhost:8080/"
        },
        "outputId": "7199e11b-3c9d-447e-f119-e7a2eb4fb038"
      },
      "outputs": [
        {
          "output_type": "execute_result",
          "data": {
            "text/plain": [
              "93.02"
            ]
          },
          "metadata": {},
          "execution_count": 48
        }
      ],
      "source": [
        "max(old_fitness_values)"
      ]
    },
    {
      "cell_type": "markdown",
      "metadata": {
        "id": "gVVXHk5ucLWN"
      },
      "source": [
        "# **Global Best position**"
      ]
    },
    {
      "cell_type": "code",
      "execution_count": null,
      "metadata": {
        "id": "RI_4EnSOZdPC",
        "colab": {
          "base_uri": "https://localhost:8080/"
        },
        "outputId": "1a2367fc-ff10-4e72-d4d8-81d4cf68bd16"
      },
      "outputs": [
        {
          "output_type": "stream",
          "name": "stdout",
          "text": [
            "3\n"
          ]
        }
      ],
      "source": [
        "ind = old_fitness_values.index(max(old_fitness_values))\n",
        "print(ind)\n",
        "globalbest=chromosomes[ind]"
      ]
    },
    {
      "cell_type": "markdown",
      "metadata": {
        "id": "Ff_oFCdTcPks"
      },
      "source": [
        "# **Selected Features**"
      ]
    },
    {
      "cell_type": "code",
      "execution_count": null,
      "metadata": {
        "id": "jVulUrTaZdPD",
        "colab": {
          "base_uri": "https://localhost:8080/"
        },
        "outputId": "403b108f-344f-44fa-c44e-9f31447407f8"
      },
      "outputs": [
        {
          "output_type": "stream",
          "name": "stdout",
          "text": [
            "['CustomerID', 'Count', 'Country', 'State', 'City', 'Zip Code', 'Latitude', 'Longitude', 'Senior Citizen', 'Partner', 'Dependents', 'Tenure Months', 'Phone Service', 'Internet Service', 'Tech Support', 'Streaming TV', 'Streaming Movies', 'Payment Method', 'Total Charges', 'Churn Score']\n"
          ]
        }
      ],
      "source": [
        "Selected_Features=data(globalbest)\n",
        "print(Selected_Features)"
      ]
    },
    {
      "cell_type": "markdown",
      "metadata": {
        "id": "ylYXd0bkZdPE"
      },
      "source": [
        "# **Evalution after Feature Selection**"
      ]
    },
    {
      "cell_type": "code",
      "execution_count": null,
      "metadata": {
        "id": "cMa7saAMZdPE",
        "colab": {
          "base_uri": "https://localhost:8080/"
        },
        "outputId": "3d390125-6520-4b50-e1fc-6e9d420bfb7e"
      },
      "outputs": [
        {
          "output_type": "stream",
          "name": "stdout",
          "text": [
            "(5282, 20)\n",
            "(1761, 20)\n"
          ]
        }
      ],
      "source": [
        "#The x variable --> independent variables\n",
        "X1=churn[Selected_Features]\n",
        "\n",
        "#The y variable --> dependent'Target' variable.\n",
        "y1 = churn['Churn Label']\n",
        "\n",
        "#The random_state parameter is used to ensure that the data is split randomly.\n",
        "X_train1, X_test1, y_train1, y_test1 = train_test_split(X1, y1, test_size=0.25, random_state=42)\n",
        "\n",
        "# Print the shape of the training set-->(row,column)\n",
        "print(X_train1.shape)\n",
        "\n",
        "# Print the shape of the testing set-->(row,column)\n",
        "print(X_test1.shape)"
      ]
    },
    {
      "cell_type": "code",
      "execution_count": null,
      "metadata": {
        "id": "qTEjm4MXZdPF"
      },
      "outputs": [],
      "source": [
        "clf_rf = RandomForestClassifier()\n",
        "\n",
        "#fit--> creating a number of decision trees and  trained on a subset of the training data.\n",
        "#The decision trees are combined to make a prediction.\n",
        "clf_rf.fit(X_train1, y_train1)\n",
        "\n",
        "# Make predictions on the test set\n",
        "y_pred1 = clf_rf.predict(X_test1)"
      ]
    },
    {
      "cell_type": "code",
      "execution_count": null,
      "metadata": {
        "id": "WrNcoyGcZdPG",
        "colab": {
          "base_uri": "https://localhost:8080/"
        },
        "outputId": "6e902141-0fd4-4c46-ba25-23b9c18f3baa"
      },
      "outputs": [
        {
          "output_type": "stream",
          "name": "stdout",
          "text": [
            "Accuracy: 93.13 %\n",
            "Precision: 89.38 %\n",
            "Recall: 85.97 %\n",
            "F1-score: 87.64 %\n"
          ]
        }
      ],
      "source": [
        "# Accuracy score: Compare the predicted labels (y_pred) with the actual labels (y_test).\n",
        "accuracy1 = round(accuracy_score(y_test1, y_pred1)*100,2)\n",
        "precision1 = round(precision_score(y_test1, y_pred1)*100,2)\n",
        "recall1 = round(recall_score(y_test1, y_pred1)*100,2)\n",
        "F1_score1 = round(f1_score(y_test1, y_pred1)*100,2)\n",
        "\n",
        "print(\"Accuracy:\", accuracy1,\"%\")\n",
        "print(\"Precision:\", precision1,\"%\")\n",
        "print(\"Recall:\", recall1,\"%\")\n",
        "print(\"F1-score:\", F1_score1,\"%\")"
      ]
    },
    {
      "cell_type": "markdown",
      "metadata": {
        "id": "QQHy_fIaZdPG"
      },
      "source": [
        "# **HyperParameter Optimization**\n",
        "---"
      ]
    },
    {
      "cell_type": "code",
      "source": [
        "pip install pso-optimizer"
      ],
      "metadata": {
        "colab": {
          "base_uri": "https://localhost:8080/"
        },
        "id": "IwWmyComCMJY",
        "outputId": "fa81afe0-d305-4917-e9d8-256cd5d8e6ba"
      },
      "execution_count": null,
      "outputs": [
        {
          "output_type": "stream",
          "name": "stdout",
          "text": [
            "Collecting pso-optimizer\n",
            "  Downloading pso_optimizer-1.0.1-py3-none-any.whl (5.1 kB)\n",
            "Requirement already satisfied: numpy in /usr/local/lib/python3.10/dist-packages (from pso-optimizer) (1.25.2)\n",
            "Requirement already satisfied: scikit-learn in /usr/local/lib/python3.10/dist-packages (from pso-optimizer) (1.2.2)\n",
            "Requirement already satisfied: joblib in /usr/local/lib/python3.10/dist-packages (from pso-optimizer) (1.4.2)\n",
            "Requirement already satisfied: tqdm in /usr/local/lib/python3.10/dist-packages (from pso-optimizer) (4.66.4)\n",
            "Requirement already satisfied: scipy>=1.3.2 in /usr/local/lib/python3.10/dist-packages (from scikit-learn->pso-optimizer) (1.11.4)\n",
            "Requirement already satisfied: threadpoolctl>=2.0.0 in /usr/local/lib/python3.10/dist-packages (from scikit-learn->pso-optimizer) (3.5.0)\n",
            "Installing collected packages: pso-optimizer\n",
            "Successfully installed pso-optimizer-1.0.1\n"
          ]
        }
      ]
    },
    {
      "cell_type": "markdown",
      "metadata": {
        "id": "JIXpaEgaZdPH"
      },
      "source": [
        "# **Search for best HyperParameter**"
      ]
    },
    {
      "cell_type": "code",
      "execution_count": 24,
      "metadata": {
        "id": "S5Li_EO0ZdPH"
      },
      "outputs": [],
      "source": [
        "# RANDOM FOREST\n",
        "criterion_map_rf = {\n",
        "     0: \"gini\",\n",
        "     1: \"entropy\",\n",
        "     2: \"log_loss\"\n",
        " }\n",
        "\n",
        "min_samples_split_map_rf = {\n",
        "     0: 2,\n",
        "     1: 5,\n",
        "     2: 10\n",
        " }\n",
        "\n",
        "max_features_map_rf = {\n",
        "    0: \"sqrt\",\n",
        "    1: \"log2\",\n",
        "    2: None\n",
        "}\n",
        "\n",
        "\n",
        "import numpy as np\n",
        "from sklearn.metrics import accuracy_score\n",
        "from sklearn.ensemble import RandomForestClassifier\n",
        "from joblib import Parallel, delayed\n",
        "from pso_optimizer.hyperparameter_mappings import (\n",
        "    criterion_map_rf,\n",
        "    max_features_map_rf,\n",
        "    min_samples_split_map_rf,\n",
        ")\n",
        "\n",
        "class PSOOptimizer:\n",
        "\n",
        "    def __init__(self, estimator, random_seed=42):\n",
        "        self.estimator = estimator\n",
        "        self.random_seed = random_seed\n",
        "\n",
        "    def pso_hyperparameter_optimization(self, X_train, X_test, y_train, y_test, num_particles, num_iterations, c1=1, c2=1, num_jobs=-1, w=0):\n",
        "        if self.random_seed is not None:\n",
        "            np.random.seed(self.random_seed)\n",
        "        hyperparameter_space = self._get_hyperparameter_space()\n",
        "\n",
        "        # Initialize the population of particles\n",
        "        population = []\n",
        "        for _ in range(num_particles):\n",
        "            hyperparameters = [np.random.choice(hyperparameter_space[param]) for param in hyperparameter_space]\n",
        "            population.append(hyperparameters)\n",
        "\n",
        "        # Initialize velocity and best position\n",
        "        velocity = [[0] * len(hyperparameter_space) for _ in range(num_particles)]\n",
        "        best_position = population.copy()\n",
        "        global_best_fitness = -float(\"inf\")\n",
        "        global_best_position = []\n",
        "\n",
        "        # PSO optimization loop\n",
        "        for _ in range(num_iterations):\n",
        "            fitness = Parallel(n_jobs=num_jobs)(\n",
        "                delayed(self.evaluate_fitness)(X_train, X_test, y_train, y_test, particle)\n",
        "                for particle in population\n",
        "            )\n",
        "\n",
        "            for j, particle in enumerate(population):\n",
        "                if fitness[j] > self.evaluate_fitness(X_train, X_test, y_train, y_test, best_position[j]):\n",
        "                    best_position[j] = particle\n",
        "\n",
        "            if max(fitness) > global_best_fitness:\n",
        "                global_best_fitness = max(fitness)\n",
        "                global_best_position = population[fitness.index(max(fitness))]\n",
        "\n",
        "            for j, particle in enumerate(population):\n",
        "                r1 = np.random.uniform(0, 1)\n",
        "                r2 = np.random.uniform(0, 1)\n",
        "                velocity[j] = [w * velocity[j][k] + c1 * r1 * (best_position[j][k] - particle[k]) + c2 * r2 * (global_best_position[k] - particle[k]) for k in range(len(hyperparameter_space))]\n",
        "\n",
        "                for k in range(len(hyperparameter_space)):\n",
        "                    particle[k] += velocity[j][k]\n",
        "                    particle[k] = max(min(particle[k], max(hyperparameter_space[list(hyperparameter_space.keys())[k]])),\n",
        "                        min(hyperparameter_space[list(hyperparameter_space.keys())[k]]))\n",
        "\n",
        "        return global_best_position, global_best_fitness\n",
        "\n",
        "    def evaluate_fitness(self, X_train, X_test, y_train, y_test, hyperparameters):\n",
        "        # Unpack hyperparameters\n",
        "        estimator_instance = self._create_estimator(hyperparameters)\n",
        "\n",
        "        estimator_instance.fit(X_train, y_train)\n",
        "        y_pred = estimator_instance.predict(X_test)\n",
        "        accuracy_pso = accuracy_score(y_test, y_pred)\n",
        "        return accuracy_pso\n",
        "\n",
        "    def _create_estimator(self, hyperparameters):\n",
        "        # Train the estimator using the hyperparameters\n",
        "        estimator_instance = None\n",
        "\n",
        "        if self.estimator == \"RF\":\n",
        "            n_estimators_values, max_depth_values, criterion_values, min_samples_split_values, min_samples_leaf_values, min_weight_fraction_leaf_values, max_features_values = hyperparameters\n",
        "            estimator_instance = RandomForestClassifier(random_state=self.random_seed, n_estimators=int(n_estimators_values), max_depth=int(max_depth_values),\n",
        "                                                        criterion=criterion_map_rf[round(criterion_values)],\n",
        "                                                        min_samples_split=min_samples_split_map_rf[round(min_samples_split_values)],\n",
        "                                                        min_samples_leaf=int(min_samples_leaf_values),\n",
        "                                                        min_weight_fraction_leaf=min_weight_fraction_leaf_values,\n",
        "                                                        max_features=max_features_map_rf[round(max_features_values)]\n",
        "                                                        )\n",
        "\n",
        "        else:\n",
        "            raise ValueError(\"Estimator not supported.\")\n",
        "\n",
        "        return estimator_instance\n",
        "\n",
        "    def get_hyperparameters(self, best_hyperparameters):\n",
        "        if self.estimator == \"RF\":\n",
        "            print(\"Optimal hyperparameters:\")\n",
        "            print(f\"n_estimators_value: {best_hyperparameters[0]}\")\n",
        "            print(f\"max_depth_value: {best_hyperparameters[1]}\")\n",
        "            print(f\"Criterion: {criterion_map_rf[best_hyperparameters[2]]}\")\n",
        "            print(f\"min_samples_split_values: {min_samples_split_map_rf[best_hyperparameters[3]]}\")\n",
        "            print(f\"min_samples_leaf_values: {best_hyperparameters[4]}\")\n",
        "            print(f\"min_weight_fraction_leaf_values: {best_hyperparameters[5]}\")\n",
        "            print(f\"max_features_values: {max_features_map_rf[best_hyperparameters[6]]}\")\n",
        "        else:\n",
        "            raise ValueError(\"Estimator not supported\")\n",
        "\n",
        "\n",
        "\n",
        "    def _get_hyperparameter_space(self):\n",
        "        # Define hyperparameter space based on the estimator\n",
        "        if self.estimator == \"RF\":\n",
        "            hyperparameter_space = {\n",
        "                \"n_estimators_values\": [100, 200,300,400, 500],\n",
        "                \"max_depth_values\": [5, 10, 20],\n",
        "                \"criterion_values\": [0, 1, 2],\n",
        "                \"min_samples_split_values\": [0, 1, 2],\n",
        "                \"min_samples_leaf_values\": [1, 2, 3, 4, 5],\n",
        "                \"min_weight_fraction_leaf_values\": [0.0, 0.1, 0.2, 0.3, 0.4, 0.5],\n",
        "                \"max_features_values\": [0, 1, 2]\n",
        "            }\n",
        "        else:\n",
        "            raise ValueError(\"Estimator not supported.\")\n",
        "        return hyperparameter_space\n",
        "\n"
      ]
    },
    {
      "cell_type": "code",
      "source": [
        "optimizer = PSOOptimizer(estimator=\"RF\")\n",
        "\n",
        "# The x variable --> independent variables\n",
        "X2 = churn.drop('Churn Label', axis=1)\n",
        "\n",
        "# The y variable --> dependent'Target' variable\n",
        "y2 = churn['Churn Label']\n",
        "\n",
        "X_train2, X_test2, y_train2, y_test2 = train_test_split(X2, y2, test_size=0.25, random_state=42)\n",
        "\n",
        "# Perform hyperparameter optimization\n",
        "best_hyperparameters, best_score = optimizer.pso_hyperparameter_optimization(X_train2, X_test2, y_train2, y_test2, num_particles=10, num_iterations=5)\n",
        "\n",
        "print(\"best score = \",best_score)\n",
        "# Print best hyperparameters\n",
        "optimizer.get_hyperparameters(best_hyperparameters=best_hyperparameters)\n"
      ],
      "metadata": {
        "colab": {
          "base_uri": "https://localhost:8080/"
        },
        "id": "yA-dCmUVCCBt",
        "outputId": "277c0a44-9d2b-41ba-a1c1-0ab4eb2a49fa"
      },
      "execution_count": 26,
      "outputs": [
        {
          "output_type": "stream",
          "name": "stdout",
          "text": [
            "best score =  0.9273140261215219\n",
            "Optimal hyperparameters:\n",
            "n_estimators_value: 100.0\n",
            "max_depth_value: 10.0\n",
            "Criterion: entropy\n",
            "min_samples_split_values: 2\n",
            "min_samples_leaf_values: 4.0\n",
            "min_weight_fraction_leaf_values: 0.0\n",
            "max_features_values: sqrt\n"
          ]
        }
      ]
    },
    {
      "cell_type": "markdown",
      "metadata": {
        "id": "DlZIVqsvcYQf"
      },
      "source": [
        "# **Radom Forest Model**"
      ]
    },
    {
      "cell_type": "code",
      "execution_count": 27,
      "metadata": {
        "id": "U7J43ZpEZdPH"
      },
      "outputs": [],
      "source": [
        "clf_rf = RandomForestClassifier(\n",
        "    n_estimators=100,\n",
        "    max_depth=10,\n",
        "    criterion='gini',\n",
        "    min_samples_split=2,\n",
        "    min_samples_leaf=4,\n",
        "    min_weight_fraction_leaf=0.0,  # Corrected the syntax and type\n",
        "    max_features='sqrt'\n",
        ")\n",
        "\n",
        "#fit--> creating a number of decision trees and  trained on a subset of the training data.\n",
        "#The decision trees are combined to make a prediction.\n",
        "clf_rf.fit(X_train2, y_train2)\n",
        "\n",
        "# Make predictions on the test set\n",
        "y_pred2= clf_rf.predict(X_test2)"
      ]
    },
    {
      "cell_type": "markdown",
      "metadata": {
        "id": "NDYIsKLBcbaK"
      },
      "source": [
        "# **Evaluation after Hyperparameter optimization**"
      ]
    },
    {
      "cell_type": "code",
      "execution_count": 28,
      "metadata": {
        "id": "22y_EvMKZdPI",
        "colab": {
          "base_uri": "https://localhost:8080/"
        },
        "outputId": "acf78d4c-a603-4bf6-a550-e9fe80e782a7"
      },
      "outputs": [
        {
          "output_type": "stream",
          "name": "stdout",
          "text": [
            "Accuracy: 92.84 %\n",
            "Precision: 88.14 %\n",
            "Recall: 86.37 %\n",
            "F1-score: 87.25 %\n"
          ]
        }
      ],
      "source": [
        "# Accuracy score: Compare the predicted labels (y_pred) with the actual labels (y_test).\n",
        "accuracy2 = round(accuracy_score(y_test2, y_pred2)*100,2)\n",
        "precision2 = round(precision_score(y_test2, y_pred2)*100,2)\n",
        "recall2 = round(recall_score(y_test2, y_pred2)*100,2)\n",
        "F1_score2 = round(f1_score(y_test2, y_pred2)*100,2)\n",
        "\n",
        "print(\"Accuracy:\", accuracy2,\"%\")\n",
        "print(\"Precision:\", precision2,\"%\")\n",
        "print(\"Recall:\", recall2,\"%\")\n",
        "print(\"F1-score:\", F1_score2,\"%\")"
      ]
    }
  ],
  "metadata": {
    "colab": {
      "provenance": []
    },
    "kaggle": {
      "accelerator": "none",
      "dataSources": [
        {
          "datasetId": 1020460,
          "sourceId": 1720381,
          "sourceType": "datasetVersion"
        }
      ],
      "dockerImageVersionId": 30698,
      "isGpuEnabled": false,
      "isInternetEnabled": true,
      "language": "python",
      "sourceType": "notebook"
    },
    "kernelspec": {
      "display_name": "Python 3",
      "language": "python",
      "name": "python3"
    },
    "language_info": {
      "codemirror_mode": {
        "name": "ipython",
        "version": 3
      },
      "file_extension": ".py",
      "mimetype": "text/x-python",
      "name": "python",
      "nbconvert_exporter": "python",
      "pygments_lexer": "ipython3",
      "version": "3.10.13"
    }
  },
  "nbformat": 4,
  "nbformat_minor": 0
}